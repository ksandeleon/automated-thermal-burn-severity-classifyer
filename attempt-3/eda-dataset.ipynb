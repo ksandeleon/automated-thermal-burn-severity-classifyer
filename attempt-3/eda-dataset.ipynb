{
 "cells": [
  {
   "cell_type": "code",
   "execution_count": 10,
   "id": "7e0d64d2",
   "metadata": {},
   "outputs": [
    {
     "name": "stdout",
     "output_type": "stream",
     "text": [
      "Number of images: 9561\n",
      "Number of labels: 9561\n"
     ]
    }
   ],
   "source": [
    "import os\n",
    "\n",
    "# Count files in directories\n",
    "images_dir = r'../dataset/compiled-new/images'\n",
    "labels_dir = r'../dataset/compiled-new/labels'\n",
    "\n",
    "num_images = len([f for f in os.listdir(images_dir) if not f.startswith('.')])\n",
    "num_labels = len([f for f in os.listdir(labels_dir) if not f.startswith('.')])\n",
    "\n",
    "print(f\"Number of images: {num_images}\")\n",
    "print(f\"Number of labels: {num_labels}\")"
   ]
  },
  {
   "cell_type": "code",
   "execution_count": null,
   "id": "4440d696",
   "metadata": {},
   "outputs": [
    {
     "name": "stdout",
     "output_type": "stream",
     "text": [
      "All images have corresponding label files.\n"
     ]
    }
   ],
   "source": [
    "# Check for images without corresponding label files\n",
    "missing_labels = []\n",
    "\n",
    "for img_file in os.listdir(images_dir):\n",
    "    if img_file.lower().endswith(('.jpg', '.jpeg', '.png')):\n",
    "        base_name = os.path.splitext(img_file)[0]\n",
    "        label_file = base_name + '.txt'\n",
    "        label_path = os.path.join(labels_dir, label_file)\n",
    "        if not os.path.isfile(label_path):\n",
    "            missing_labels.append(img_file)\n",
    "\n",
    "if missing_labels:\n",
    "    print(\"Images missing label files:\")\n",
    "    for img in missing_labels:\n",
    "        print(img)\n",
    "else:\n",
    "    print(\"All images have corresponding label files.\")"
   ]
  },
  {
   "cell_type": "code",
   "execution_count": 8,
   "id": "f0072b1f",
   "metadata": {},
   "outputs": [
    {
     "name": "stdout",
     "output_type": "stream",
     "text": [
      "All label files have corresponding images.\n"
     ]
    }
   ],
   "source": [
    "# Check for label files without corresponding image files\n",
    "missing_images = []\n",
    "\n",
    "for label_file in os.listdir(labels_dir):\n",
    "    if label_file.lower().endswith('.txt'):\n",
    "        base_name = os.path.splitext(label_file)[0]\n",
    "        # Check for any image extension\n",
    "        has_image = any(\n",
    "            os.path.isfile(os.path.join(images_dir, base_name + ext))\n",
    "            for ext in ['.jpg', '.jpeg', '.png']\n",
    "        )\n",
    "        if not has_image:\n",
    "            missing_images.append(label_file)\n",
    "\n",
    "if missing_images:\n",
    "    print(\"Label files missing corresponding images:\")\n",
    "    for label in missing_images:\n",
    "        print(label)\n",
    "else:\n",
    "    print(\"All label files have corresponding images.\")"
   ]
  },
  {
   "cell_type": "code",
   "execution_count": 9,
   "id": "5baaabb2",
   "metadata": {},
   "outputs": [
    {
     "name": "stdout",
     "output_type": "stream",
     "text": [
      "Deleted 0 duplicate images and their labels.\n"
     ]
    }
   ],
   "source": [
    "import hashlib\n",
    "\n",
    "# Remove duplicate images and their labels\n",
    "def file_hash(filepath):\n",
    "    \"\"\"Compute MD5 hash of a file (read in chunks for large files).\"\"\"\n",
    "    hasher = hashlib.md5()\n",
    "    with open(filepath, 'rb') as f:\n",
    "        for chunk in iter(lambda: f.read(4096), b\"\"):\n",
    "            hasher.update(chunk)\n",
    "    return hasher.hexdigest()\n",
    "\n",
    "hashes = {}\n",
    "duplicates = []\n",
    "\n",
    "for img_file in os.listdir(images_dir):\n",
    "    if img_file.lower().endswith(('.jpg', '.jpeg', '.png')):\n",
    "        img_path = os.path.join(images_dir, img_file)\n",
    "        h = file_hash(img_path)\n",
    "        if h in hashes:\n",
    "            # Duplicate found: delete image and its label\n",
    "            print(f\"Deleting duplicate image: {img_file}\")\n",
    "            os.remove(img_path)\n",
    "            # Delete corresponding label\n",
    "            base_name = os.path.splitext(img_file)[0]\n",
    "            label_file = base_name + '.txt'\n",
    "            label_path = os.path.join(labels_dir, label_file)\n",
    "            if os.path.isfile(label_path):\n",
    "                print(f\"Deleting label: {label_file}\")\n",
    "                os.remove(label_path)\n",
    "            duplicates.append(img_file)\n",
    "        else:\n",
    "            hashes[h] = img_file\n",
    "\n",
    "print(f\"Deleted {len(duplicates)} duplicate images and their labels.\")"
   ]
  }
 ],
 "metadata": {
  "kernelspec": {
   "display_name": ".venv-training",
   "language": "python",
   "name": "python3"
  },
  "language_info": {
   "codemirror_mode": {
    "name": "ipython",
    "version": 3
   },
   "file_extension": ".py",
   "mimetype": "text/x-python",
   "name": "python",
   "nbconvert_exporter": "python",
   "pygments_lexer": "ipython3",
   "version": "3.10.11"
  }
 },
 "nbformat": 4,
 "nbformat_minor": 5
}
