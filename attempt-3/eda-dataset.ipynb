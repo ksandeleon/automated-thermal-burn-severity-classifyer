{
 "cells": [
  {
   "cell_type": "code",
   "execution_count": 2,
   "id": "7e0d64d2",
   "metadata": {},
   "outputs": [
    {
     "name": "stdout",
     "output_type": "stream",
     "text": [
      "Number of images: 11930\n",
      "Number of labels: 11930\n"
     ]
    }
   ],
   "source": [
    "import os\n",
    "\n",
    "images_dir = r'../dataset/backup/images_backup'\n",
    "labels_dir = r'../dataset/backup/labels_backup'\n",
    "\n",
    "# Count files (excluding hidden files)\n",
    "num_images = len([f for f in os.listdir(images_dir) if not f.startswith('.')])\n",
    "num_labels = len([f for f in os.listdir(labels_dir) if not f.startswith('.')])\n",
    "\n",
    "print(f\"Number of images: {num_images}\")\n",
    "print(f\"Number of labels: {num_labels}\")"
   ]
  },
  {
   "cell_type": "code",
   "execution_count": null,
   "id": "33bc16bb",
   "metadata": {},
   "outputs": [],
   "source": [
    "import shutil\n",
    "import os\n",
    "\n",
    "# Source directories\n",
    "old_images_dir = r'../dataset/backup/images_backup'\n",
    "old_labels_dir = r'../dataset/backup/labels_backup'\n",
    "\n",
    "# New directories\n",
    "new_images_dir = r'/dataset-v3/images'\n",
    "new_labels_dir = r'/dataset-v3/labels'\n",
    "\n",
    "# Create new directories if they don't exist\n",
    "os.makedirs(new_images_dir, exist_ok=True)\n",
    "os.makedirs(new_labels_dir, exist_ok=True)\n",
    "\n",
    "# Move all files from old_images_dir to new_images_dir\n",
    "for filename in os.listdir(old_images_dir):\n",
    "    src = os.path.join(old_images_dir, filename)\n",
    "    dst = os.path.join(new_images_dir, filename)\n",
    "    shutil.move(src, dst)\n",
    "\n",
    "# Move all files from old_labels_dir to new_labels_dir\n",
    "for filename in os.listdir(old_labels_dir):\n",
    "    src = os.path.join(old_labels_dir, filename)\n",
    "    dst = os.path.join(new_labels_dir, filename)\n",
    "    shutil.move(src, dst)\n",
    "\n",
    "print(\"All files moved successfully.\")"
   ]
  }
 ],
 "metadata": {
  "kernelspec": {
   "display_name": ".venv-training",
   "language": "python",
   "name": "python3"
  },
  "language_info": {
   "codemirror_mode": {
    "name": "ipython",
    "version": 3
   },
   "file_extension": ".py",
   "mimetype": "text/x-python",
   "name": "python",
   "nbconvert_exporter": "python",
   "pygments_lexer": "ipython3",
   "version": "3.10.11"
  }
 },
 "nbformat": 4,
 "nbformat_minor": 5
}
