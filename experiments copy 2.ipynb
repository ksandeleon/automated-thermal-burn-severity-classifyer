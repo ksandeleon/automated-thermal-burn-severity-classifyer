{
 "cells": [
  {
   "cell_type": "code",
   "execution_count": 1,
   "id": "456cdd0e",
   "metadata": {},
   "outputs": [
    {
     "name": "stdout",
     "output_type": "stream",
     "text": [
      "Found 717 files belonging to 3 classes.\n"
     ]
    }
   ],
   "source": [
    "import tensorflow as tf\n",
    "from tensorflow import keras\n",
    "from tensorflow.keras.applications import ResNet50, EfficientNetB0\n",
    "from tensorflow.keras.models import Model, load_model\n",
    "from tensorflow.keras.layers import (\n",
    "    Input, Dense, Dropout, LayerNormalization,\n",
    "    GlobalAveragePooling2D, Reshape, MultiHeadAttention,\n",
    "    Add, Activation, Concatenate, Lambda\n",
    ")\n",
    "from tensorflow.keras.optimizers import Adam\n",
    "from tensorflow.keras.callbacks import ModelCheckpoint, EarlyStopping\n",
    "import numpy as np\n",
    "import matplotlib.pyplot as plt\n",
    "from sklearn.utils.class_weight import compute_class_weight\n",
    "\n",
    "# dataset directory\n",
    "dataset_dir = \"dataset-allin/best-case/\"\n",
    "\n",
    "# load and preprocess the dataset\n",
    "data = tf.keras.utils.image_dataset_from_directory(\n",
    "    dataset_dir,\n",
    "    labels='inferred',\n",
    "    label_mode='int',\n",
    "    image_size=(224, 224),\n",
    "    batch_size=32,\n",
    "    shuffle=True\n",
    ")"
   ]
  },
  {
   "cell_type": "code",
   "execution_count": 2,
   "id": "74644b1f",
   "metadata": {},
   "outputs": [],
   "source": [
    "# split the dataset into train, validation, and test sets\n",
    "def split_dataset(dataset, train_size=0.7, val_size=0.2):\n",
    "    total_size = dataset.cardinality().numpy()\n",
    "    train_dataset = dataset.take(int(total_size * train_size))\n",
    "    val_test_dataset = dataset.skip(int(total_size * train_size))\n",
    "    val_dataset = val_test_dataset.take(int(total_size * val_size))\n",
    "    test_dataset = val_test_dataset.skip(int(total_size * val_size))\n",
    "    return train_dataset, val_dataset, test_dataset\n",
    "\n",
    "train, val, test = split_dataset(data)\n",
    "\n",
    "# prefetch for performance\n",
    "train = train.prefetch(tf.data.AUTOTUNE)\n",
    "val = val.prefetch(tf.data.AUTOTUNE)\n",
    "test = test.prefetch(tf.data.AUTOTUNE)"
   ]
  },
  {
   "cell_type": "code",
   "execution_count": 3,
   "id": "4044248d",
   "metadata": {},
   "outputs": [
    {
     "name": "stdout",
     "output_type": "stream",
     "text": [
      "{0: np.float64(0.9642184557438794), 1: np.float64(0.6464646464646465), 2: np.float64(2.403755868544601)}\n"
     ]
    }
   ],
   "source": [
    "# Get class names and compute class weights for focal loss\n",
    "\n",
    "from sklearn.utils.class_weight import compute_class_weight\n",
    "import numpy as np\n",
    "\n",
    "# Collect all labels from the training set\n",
    "train_labels = []\n",
    "for _, labels in train:\n",
    "    train_labels.extend(labels.numpy())\n",
    "train_labels = np.array(train_labels)\n",
    "\n",
    "# Compute class weights based on training labels\n",
    "class_weights = compute_class_weight(\n",
    "    class_weight='balanced',\n",
    "    classes=np.unique(train_labels),\n",
    "    y=train_labels\n",
    ")\n",
    "class_weight_dict = dict(enumerate(class_weights))\n",
    "print(class_weight_dict)"
   ]
  },
  {
   "cell_type": "code",
   "execution_count": 6,
   "id": "f0965198",
   "metadata": {},
   "outputs": [],
   "source": [
    "# Advanced augmentation pipeline\n",
    "data_augmentation = tf.keras.Sequential([\n",
    "    tf.keras.layers.RandomFlip(\"horizontal\"),\n",
    "    tf.keras.layers.RandomRotation(0.1),\n",
    "    tf.keras.layers.RandomZoom(0.1),\n",
    "    tf.keras.layers.RandomTranslation(0.1, 0.1),\n",
    "    tf.keras.layers.RandomContrast(0.2),\n",
    "    tf.keras.layers.RandomBrightness(0.2),\n",
    "    tf.keras.layers.GaussianNoise(0.05),\n",
    "])\n",
    "\n",
    "train = train.map(lambda x, y: (data_augmentation(x), y))"
   ]
  },
  {
   "cell_type": "code",
   "execution_count": 7,
   "id": "010abcd5",
   "metadata": {},
   "outputs": [],
   "source": [
    "import tensorflow as tf\n",
    "from tensorflow.keras.applications import ResNet50\n",
    "from tensorflow.keras.layers import (Dense, Dropout, LayerNormalization,\n",
    "                                     MultiHeadAttention, Add, Input, Reshape, GlobalAveragePooling1D)\n",
    "from tensorflow.keras.models import Model\n",
    "\n",
    "def transformer_encoder(inputs, head_size, num_heads, ff_dim, dropout=0.1):\n",
    "    # Attention block\n",
    "    x = LayerNormalization(epsilon=1e-6)(inputs)\n",
    "    x = MultiHeadAttention(num_heads=num_heads, key_dim=head_size, dropout=dropout)(x, x)\n",
    "    x = Dropout(dropout)(x)\n",
    "    res = Add()([x, inputs])\n",
    "\n",
    "    # Feed-forward block\n",
    "    x = LayerNormalization(epsilon=1e-6)(res)\n",
    "    x = Dense(ff_dim, activation=\"relu\")(x)\n",
    "    x = Dropout(dropout)(x)\n",
    "    x = Dense(inputs.shape[-1])(x)\n",
    "    return Add()([x, res])\n",
    "\n",
    "def build_hybrid_model(input_shape=(224, 224, 3), num_classes=3):\n",
    "    inputs = Input(shape=input_shape)\n",
    "\n",
    "    # CNN Backbone (feature extractor)\n",
    "    base_model = ResNet50(include_top=False, weights=\"imagenet\", input_tensor=inputs, name=\"resnet50\")\n",
    "    base_model.trainable = False   # fine-tune later if needed\n",
    "\n",
    "    x = base_model.output  # shape: (7, 7, 2048)\n",
    "    x = Reshape((49, 2048))(x)  # Flatten spatial grid into sequence\n",
    "\n",
    "    # Transformer blocks\n",
    "    for _ in range(2):  # can increase for more power\n",
    "        x = transformer_encoder(x, head_size=64, num_heads=4, ff_dim=256, dropout=0.1)\n",
    "\n",
    "    # Pool transformer outputs\n",
    "    x = GlobalAveragePooling1D()(x)\n",
    "    x = Dropout(0.5)(x)\n",
    "    outputs = Dense(num_classes, activation=\"softmax\")(x)\n",
    "\n",
    "    model = Model(inputs, outputs)\n",
    "    return model\n",
    "\n",
    "# Usage\n",
    "model = build_hybrid_model()\n",
    "model.compile(\n",
    "    optimizer=tf.keras.optimizers.Adam(1e-4),\n",
    "    loss='sparse_categorical_crossentropy',\n",
    "    metrics=['accuracy']\n",
    ")"
   ]
  },
  {
   "cell_type": "code",
   "execution_count": 8,
   "id": "821cff3f",
   "metadata": {},
   "outputs": [],
   "source": [
    "from tensorflow.keras.callbacks import EarlyStopping, ReduceLROnPlateau\n",
    "\n",
    "# callbacks for training\n",
    "early_stopping = EarlyStopping(\n",
    "    monitor='val_loss',\n",
    "    patience=5,\n",
    "    restore_best_weights=True\n",
    ")\n",
    "\n",
    "reduce_lr = ReduceLROnPlateau(\n",
    "    monitor='val_loss',\n",
    "    factor=0.5,\n",
    "    patience=3,\n",
    "    min_lr=1e-6\n",
    ")"
   ]
  },
  {
   "cell_type": "code",
   "execution_count": 9,
   "id": "2d885743",
   "metadata": {},
   "outputs": [
    {
     "name": "stdout",
     "output_type": "stream",
     "text": [
      "Epoch 1/20\n",
      "\u001b[1m16/16\u001b[0m \u001b[32m━━━━━━━━━━━━━━━━━━━━\u001b[0m\u001b[37m\u001b[0m \u001b[1m36s\u001b[0m 2s/step - accuracy: 0.4355 - loss: 1.6704 - val_accuracy: 0.6328 - val_loss: 0.8750 - learning_rate: 1.0000e-04\n",
      "Epoch 2/20\n",
      "\u001b[1m16/16\u001b[0m \u001b[32m━━━━━━━━━━━━━━━━━━━━\u001b[0m\u001b[37m\u001b[0m \u001b[1m26s\u001b[0m 2s/step - accuracy: 0.5625 - loss: 1.1826 - val_accuracy: 0.7266 - val_loss: 0.6489 - learning_rate: 1.0000e-04\n",
      "Epoch 3/20\n",
      "\u001b[1m16/16\u001b[0m \u001b[32m━━━━━━━━━━━━━━━━━━━━\u001b[0m\u001b[37m\u001b[0m \u001b[1m27s\u001b[0m 2s/step - accuracy: 0.6660 - loss: 0.9187 - val_accuracy: 0.7812 - val_loss: 0.6620 - learning_rate: 1.0000e-04\n",
      "Epoch 4/20\n",
      "\u001b[1m16/16\u001b[0m \u001b[32m━━━━━━━━━━━━━━━━━━━━\u001b[0m\u001b[37m\u001b[0m \u001b[1m27s\u001b[0m 2s/step - accuracy: 0.7520 - loss: 0.7331 - val_accuracy: 0.7500 - val_loss: 0.6311 - learning_rate: 1.0000e-04\n",
      "Epoch 5/20\n",
      "\u001b[1m16/16\u001b[0m \u001b[32m━━━━━━━━━━━━━━━━━━━━\u001b[0m\u001b[37m\u001b[0m \u001b[1m26s\u001b[0m 2s/step - accuracy: 0.7852 - loss: 0.5694 - val_accuracy: 0.8359 - val_loss: 0.4722 - learning_rate: 1.0000e-04\n",
      "Epoch 6/20\n",
      "\u001b[1m16/16\u001b[0m \u001b[32m━━━━━━━━━━━━━━━━━━━━\u001b[0m\u001b[37m\u001b[0m \u001b[1m26s\u001b[0m 2s/step - accuracy: 0.8047 - loss: 0.5573 - val_accuracy: 0.7969 - val_loss: 0.4468 - learning_rate: 1.0000e-04\n",
      "Epoch 7/20\n",
      "\u001b[1m16/16\u001b[0m \u001b[32m━━━━━━━━━━━━━━━━━━━━\u001b[0m\u001b[37m\u001b[0m \u001b[1m26s\u001b[0m 2s/step - accuracy: 0.8027 - loss: 0.4706 - val_accuracy: 0.8594 - val_loss: 0.3362 - learning_rate: 1.0000e-04\n",
      "Epoch 8/20\n",
      "\u001b[1m16/16\u001b[0m \u001b[32m━━━━━━━━━━━━━━━━━━━━\u001b[0m\u001b[37m\u001b[0m \u001b[1m26s\u001b[0m 2s/step - accuracy: 0.8711 - loss: 0.3814 - val_accuracy: 0.8438 - val_loss: 0.3437 - learning_rate: 1.0000e-04\n",
      "Epoch 9/20\n",
      "\u001b[1m16/16\u001b[0m \u001b[32m━━━━━━━━━━━━━━━━━━━━\u001b[0m\u001b[37m\u001b[0m \u001b[1m26s\u001b[0m 2s/step - accuracy: 0.8594 - loss: 0.3783 - val_accuracy: 0.9141 - val_loss: 0.2658 - learning_rate: 1.0000e-04\n",
      "Epoch 10/20\n",
      "\u001b[1m16/16\u001b[0m \u001b[32m━━━━━━━━━━━━━━━━━━━━\u001b[0m\u001b[37m\u001b[0m \u001b[1m27s\u001b[0m 2s/step - accuracy: 0.8691 - loss: 0.3843 - val_accuracy: 0.8828 - val_loss: 0.4012 - learning_rate: 1.0000e-04\n",
      "Epoch 11/20\n",
      "\u001b[1m16/16\u001b[0m \u001b[32m━━━━━━━━━━━━━━━━━━━━\u001b[0m\u001b[37m\u001b[0m \u001b[1m26s\u001b[0m 2s/step - accuracy: 0.8672 - loss: 0.3394 - val_accuracy: 0.8828 - val_loss: 0.2885 - learning_rate: 1.0000e-04\n",
      "Epoch 12/20\n",
      "\u001b[1m16/16\u001b[0m \u001b[32m━━━━━━━━━━━━━━━━━━━━\u001b[0m\u001b[37m\u001b[0m \u001b[1m27s\u001b[0m 2s/step - accuracy: 0.8906 - loss: 0.2993 - val_accuracy: 0.8750 - val_loss: 0.2892 - learning_rate: 1.0000e-04\n",
      "Epoch 13/20\n",
      "\u001b[1m16/16\u001b[0m \u001b[32m━━━━━━━━━━━━━━━━━━━━\u001b[0m\u001b[37m\u001b[0m \u001b[1m27s\u001b[0m 2s/step - accuracy: 0.8906 - loss: 0.2910 - val_accuracy: 0.8672 - val_loss: 0.3380 - learning_rate: 5.0000e-05\n",
      "Epoch 14/20\n",
      "\u001b[1m16/16\u001b[0m \u001b[32m━━━━━━━━━━━━━━━━━━━━\u001b[0m\u001b[37m\u001b[0m \u001b[1m27s\u001b[0m 2s/step - accuracy: 0.8945 - loss: 0.2639 - val_accuracy: 0.9062 - val_loss: 0.2437 - learning_rate: 5.0000e-05\n",
      "Epoch 15/20\n",
      "\u001b[1m16/16\u001b[0m \u001b[32m━━━━━━━━━━━━━━━━━━━━\u001b[0m\u001b[37m\u001b[0m \u001b[1m27s\u001b[0m 2s/step - accuracy: 0.9141 - loss: 0.2440 - val_accuracy: 0.8906 - val_loss: 0.3155 - learning_rate: 5.0000e-05\n",
      "Epoch 16/20\n",
      "\u001b[1m16/16\u001b[0m \u001b[32m━━━━━━━━━━━━━━━━━━━━\u001b[0m\u001b[37m\u001b[0m \u001b[1m26s\u001b[0m 2s/step - accuracy: 0.9180 - loss: 0.2049 - val_accuracy: 0.8828 - val_loss: 0.2859 - learning_rate: 5.0000e-05\n",
      "Epoch 17/20\n",
      "\u001b[1m16/16\u001b[0m \u001b[32m━━━━━━━━━━━━━━━━━━━━\u001b[0m\u001b[37m\u001b[0m \u001b[1m27s\u001b[0m 2s/step - accuracy: 0.9297 - loss: 0.1994 - val_accuracy: 0.9219 - val_loss: 0.3054 - learning_rate: 5.0000e-05\n",
      "Epoch 18/20\n",
      "\u001b[1m16/16\u001b[0m \u001b[32m━━━━━━━━━━━━━━━━━━━━\u001b[0m\u001b[37m\u001b[0m \u001b[1m27s\u001b[0m 2s/step - accuracy: 0.9277 - loss: 0.1788 - val_accuracy: 0.9141 - val_loss: 0.3124 - learning_rate: 2.5000e-05\n",
      "Epoch 19/20\n",
      "\u001b[1m16/16\u001b[0m \u001b[32m━━━━━━━━━━━━━━━━━━━━\u001b[0m\u001b[37m\u001b[0m \u001b[1m26s\u001b[0m 2s/step - accuracy: 0.9199 - loss: 0.2456 - val_accuracy: 0.9297 - val_loss: 0.2244 - learning_rate: 2.5000e-05\n",
      "Epoch 20/20\n",
      "\u001b[1m16/16\u001b[0m \u001b[32m━━━━━━━━━━━━━━━━━━━━\u001b[0m\u001b[37m\u001b[0m \u001b[1m26s\u001b[0m 2s/step - accuracy: 0.9258 - loss: 0.1775 - val_accuracy: 0.9141 - val_loss: 0.2835 - learning_rate: 2.5000e-05\n"
     ]
    }
   ],
   "source": [
    "history = model.fit(\n",
    "    train,\n",
    "    validation_data=val,\n",
    "    epochs=20,\n",
    "    # class_weight=class_weight_dict,\n",
    "    callbacks=[early_stopping, reduce_lr]\n",
    ")"
   ]
  },
  {
   "cell_type": "code",
   "execution_count": 10,
   "id": "8cdce270",
   "metadata": {},
   "outputs": [
    {
     "data": {
      "image/png": "[encoded data removed]",
      "text/plain": [
       "<Figure size 1000x400 with 2 Axes>"
      ]
     },
     "metadata": {},
     "output_type": "display_data"
    }
   ],
   "source": [
    "import matplotlib.pyplot as plt\n",
    "\n",
    "# Plot accuracy\n",
    "plt.figure(figsize=(10, 4))\n",
    "plt.subplot(1, 2, 1)\n",
    "plt.plot(history.history['accuracy'], label='Train Accuracy')\n",
    "plt.plot(history.history['val_accuracy'], label='Val Accuracy')\n",
    "plt.xlabel('Epoch')\n",
    "plt.ylabel('Accuracy')\n",
    "plt.title('Training and Validation Accuracy')\n",
    "plt.legend()\n",
    "\n",
    "# Plot loss\n",
    "plt.subplot(1, 2, 2)\n",
    "plt.plot(history.history['loss'], label='Train Loss')\n",
    "plt.plot(history.history['val_loss'], label='Val Loss')\n",
    "plt.xlabel('Epoch')\n",
    "plt.ylabel('Loss')\n",
    "plt.title('Training and Validation Loss')\n",
    "plt.legend()\n",
    "\n",
    "plt.tight_layout()\n",
    "plt.show()"
   ]
  },
  {
   "cell_type": "code",
   "execution_count": 11,
   "id": "c9eb5a8e",
   "metadata": {},
   "outputs": [
    {
     "name": "stderr",
     "output_type": "stream",
     "text": [
      "WARNING:absl:You are saving your model as an HDF5 file via `model.save()` or `keras.saving.save_model(model)`. This file format is considered legacy. We recommend using instead the native Keras format, e.g. `model.save('my_model.keras')` or `keras.saving.save_model(model, 'my_model.keras')`. \n"
     ]
    }
   ],
   "source": [
    "model.save('checkpoints/PROPESI/hybrid_resnet_transformer_vanilla.h5')"
   ]
  },
  {
   "cell_type": "code",
   "execution_count": 12,
   "id": "c413983d",
   "metadata": {},
   "outputs": [
    {
     "name": "stdout",
     "output_type": "stream",
     "text": [
      "Epoch 1/10\n",
      "\u001b[1m16/16\u001b[0m \u001b[32m━━━━━━━━━━━━━━━━━━━━\u001b[0m\u001b[37m\u001b[0m \u001b[1m44s\u001b[0m 2s/step - accuracy: 0.8652 - loss: 0.3504 - val_accuracy: 0.8828 - val_loss: 0.3351 - learning_rate: 1.0000e-05\n",
      "Epoch 2/10\n",
      "\u001b[1m16/16\u001b[0m \u001b[32m━━━━━━━━━━━━━━━━━━━━\u001b[0m\u001b[37m\u001b[0m \u001b[1m32s\u001b[0m 2s/step - accuracy: 0.8828 - loss: 0.3370 - val_accuracy: 0.9297 - val_loss: 0.2299 - learning_rate: 1.0000e-05\n",
      "Epoch 3/10\n",
      "\u001b[1m16/16\u001b[0m \u001b[32m━━━━━━━━━━━━━━━━━━━━\u001b[0m\u001b[37m\u001b[0m \u001b[1m32s\u001b[0m 2s/step - accuracy: 0.9062 - loss: 0.2357 - val_accuracy: 0.9297 - val_loss: 0.2578 - learning_rate: 1.0000e-05\n",
      "Epoch 4/10\n",
      "\u001b[1m16/16\u001b[0m \u001b[32m━━━━━━━━━━━━━━━━━━━━\u001b[0m\u001b[37m\u001b[0m \u001b[1m32s\u001b[0m 2s/step - accuracy: 0.8906 - loss: 0.2454 - val_accuracy: 0.9062 - val_loss: 0.2465 - learning_rate: 5.0000e-06\n",
      "Epoch 5/10\n",
      "\u001b[1m16/16\u001b[0m \u001b[32m━━━━━━━━━━━━━━━━━━━━\u001b[0m\u001b[37m\u001b[0m \u001b[1m32s\u001b[0m 2s/step - accuracy: 0.9023 - loss: 0.2544 - val_accuracy: 0.9453 - val_loss: 0.1792 - learning_rate: 5.0000e-06\n",
      "Epoch 6/10\n",
      "\u001b[1m16/16\u001b[0m \u001b[32m━━━━━━━━━━━━━━━━━━━━\u001b[0m\u001b[37m\u001b[0m \u001b[1m34s\u001b[0m 2s/step - accuracy: 0.8984 - loss: 0.2355 - val_accuracy: 0.9453 - val_loss: 0.1905 - learning_rate: 5.0000e-06\n",
      "Epoch 7/10\n",
      "\u001b[1m16/16\u001b[0m \u001b[32m━━━━━━━━━━━━━━━━━━━━\u001b[0m\u001b[37m\u001b[0m \u001b[1m36s\u001b[0m 2s/step - accuracy: 0.9082 - loss: 0.2420 - val_accuracy: 0.9062 - val_loss: 0.2825 - learning_rate: 5.0000e-06\n",
      "Epoch 8/10\n",
      "\u001b[1m16/16\u001b[0m \u001b[32m━━━━━━━━━━━━━━━━━━━━\u001b[0m\u001b[37m\u001b[0m \u001b[1m32s\u001b[0m 2s/step - accuracy: 0.9160 - loss: 0.2099 - val_accuracy: 0.9141 - val_loss: 0.2095 - learning_rate: 5.0000e-06\n",
      "Epoch 9/10\n",
      "\u001b[1m16/16\u001b[0m \u001b[32m━━━━━━━━━━━━━━━━━━━━\u001b[0m\u001b[37m\u001b[0m \u001b[1m32s\u001b[0m 2s/step - accuracy: 0.9102 - loss: 0.2386 - val_accuracy: 0.9375 - val_loss: 0.1783 - learning_rate: 2.5000e-06\n",
      "Epoch 10/10\n",
      "\u001b[1m16/16\u001b[0m \u001b[32m━━━━━━━━━━━━━━━━━━━━\u001b[0m\u001b[37m\u001b[0m \u001b[1m32s\u001b[0m 2s/step - accuracy: 0.9316 - loss: 0.1839 - val_accuracy: 0.9531 - val_loss: 0.1199 - learning_rate: 2.5000e-06\n"
     ]
    }
   ],
   "source": [
    "# Stage 2: Unfreeze top ResNet layers (last 30 layers)\n",
    "resnet_layers = [layer for layer in model.layers if layer.name.startswith('conv') or layer.name.startswith('pool')]\n",
    "for layer in resnet_layers[-30:]:\n",
    "    layer.trainable = True\n",
    "\n",
    "model.compile(\n",
    "    optimizer=tf.keras.optimizers.Adam(1e-5),\n",
    "    loss='sparse_categorical_crossentropy',\n",
    "    metrics=['accuracy']\n",
    ")\n",
    "\n",
    "history_stage2 = model.fit(\n",
    "    train,\n",
    "    validation_data=val,\n",
    "    epochs=10,\n",
    "    callbacks=[early_stopping, reduce_lr]\n",
    ")"
   ]
  },
  {
   "cell_type": "code",
   "execution_count": 13,
   "id": "89e15753",
   "metadata": {},
   "outputs": [
    {
     "name": "stderr",
     "output_type": "stream",
     "text": [
      "WARNING:absl:You are saving your model as an HDF5 file via `model.save()` or `keras.saving.save_model(model)`. This file format is considered legacy. We recommend using instead the native Keras format, e.g. `model.save('my_model.keras')` or `keras.saving.save_model(model, 'my_model.keras')`. \n"
     ]
    }
   ],
   "source": [
    "model.save('checkpoints/PROPESI/hybrid_resnet_transformer_30layerscnn.h5')"
   ]
  },
  {
   "cell_type": "code",
   "execution_count": 14,
   "id": "9280d798",
   "metadata": {},
   "outputs": [
    {
     "name": "stdout",
     "output_type": "stream",
     "text": [
      "Epoch 1/10\n",
      "\u001b[1m16/16\u001b[0m \u001b[32m━━━━━━━━━━━━━━━━━━━━\u001b[0m\u001b[37m\u001b[0m \u001b[1m58s\u001b[0m 3s/step - accuracy: 0.8867 - loss: 0.2769 - val_accuracy: 0.9375 - val_loss: 0.1525 - learning_rate: 2.0000e-05\n",
      "Epoch 2/10\n",
      "\u001b[1m16/16\u001b[0m \u001b[32m━━━━━━━━━━━━━━━━━━━━\u001b[0m\u001b[37m\u001b[0m \u001b[1m40s\u001b[0m 3s/step - accuracy: 0.9141 - loss: 0.2091 - val_accuracy: 0.9297 - val_loss: 0.1922 - learning_rate: 2.0000e-05\n",
      "Epoch 3/10\n",
      "\u001b[1m16/16\u001b[0m \u001b[32m━━━━━━━━━━━━━━━━━━━━\u001b[0m\u001b[37m\u001b[0m \u001b[1m41s\u001b[0m 3s/step - accuracy: 0.9219 - loss: 0.1746 - val_accuracy: 0.9062 - val_loss: 0.2265 - learning_rate: 2.0000e-05\n",
      "Epoch 4/10\n",
      "\u001b[1m16/16\u001b[0m \u001b[32m━━━━━━━━━━━━━━━━━━━━\u001b[0m\u001b[37m\u001b[0m \u001b[1m41s\u001b[0m 3s/step - accuracy: 0.9434 - loss: 0.1596 - val_accuracy: 0.9453 - val_loss: 0.1812 - learning_rate: 1.0000e-05\n",
      "Epoch 5/10\n",
      "\u001b[1m16/16\u001b[0m \u001b[32m━━━━━━━━━━━━━━━━━━━━\u001b[0m\u001b[37m\u001b[0m \u001b[1m40s\u001b[0m 2s/step - accuracy: 0.9395 - loss: 0.1489 - val_accuracy: 0.9453 - val_loss: 0.1632 - learning_rate: 1.0000e-05\n"
     ]
    }
   ],
   "source": [
    "# Stage 2: Unfreeze top ResNet layers (last 60 layers)\n",
    "resnet_layers = [layer for layer in model.layers if layer.name.startswith('conv') or layer.name.startswith('pool')]\n",
    "for layer in resnet_layers[-60:]:\n",
    "    layer.trainable = True\n",
    "\n",
    "model.compile(\n",
    "    optimizer=tf.keras.optimizers.Adam(2e-5),\n",
    "    loss='sparse_categorical_crossentropy',\n",
    "    metrics=['accuracy']\n",
    ")\n",
    "\n",
    "history_stage2 = model.fit(\n",
    "    train,\n",
    "    validation_data=val,\n",
    "    epochs=10,\n",
    "    class_weight=class_weight_dict,\n",
    "    callbacks=[early_stopping, reduce_lr]\n",
    ")"
   ]
  },
  {
   "cell_type": "code",
   "execution_count": 16,
   "id": "9110646e",
   "metadata": {},
   "outputs": [
    {
     "name": "stderr",
     "output_type": "stream",
     "text": [
      "WARNING:absl:You are saving your model as an HDF5 file via `model.save()` or `keras.saving.save_model(model)`. This file format is considered legacy. We recommend using instead the native Keras format, e.g. `model.save('my_model.keras')` or `keras.saving.save_model(model, 'my_model.keras')`. \n"
     ]
    }
   ],
   "source": [
    "model.save('checkpoints/PROPESI/hybrid_resnet_transformer_finetuned60layers.h5')"
   ]
  },
  {
   "cell_type": "code",
   "execution_count": 17,
   "id": "088b1081",
   "metadata": {},
   "outputs": [
    {
     "name": "stdout",
     "output_type": "stream",
     "text": [
      "\u001b[1m1/1\u001b[0m \u001b[32m━━━━━━━━━━━━━━━━━━━━\u001b[0m\u001b[37m\u001b[0m \u001b[1m3s\u001b[0m 3s/step\n",
      "\u001b[1m1/1\u001b[0m \u001b[32m━━━━━━━━━━━━━━━━━━━━\u001b[0m\u001b[37m\u001b[0m \u001b[1m1s\u001b[0m 1s/step\n",
      "\u001b[1m1/1\u001b[0m \u001b[32m━━━━━━━━━━━━━━━━━━━━\u001b[0m\u001b[37m\u001b[0m \u001b[1m2s\u001b[0m 2s/step\n",
      "Test Precision: 0.9388\n",
      "Test Recall: 1.0000\n",
      "Test Accuracy: 0.9221\n"
     ]
    }
   ],
   "source": [
    "from tensorflow.keras.metrics import Precision, Recall, Accuracy\n",
    "\n",
    "pre = Precision()\n",
    "re = Recall()\n",
    "acc = Accuracy()\n",
    "\n",
    "# Evaluate the model on the test set\n",
    "for batch in test.as_numpy_iterator():\n",
    "    X, y = batch  # unpack the batch\n",
    "    yhat = model.predict(X)  # get predictions (probabilities)\n",
    "    yhat_classes = np.argmax(yhat, axis=1)  # convert to class indices\n",
    "\n",
    "    # update metrics\n",
    "    pre.update_state(y, yhat_classes)\n",
    "    re.update_state(y, yhat_classes)\n",
    "    acc.update_state(y, yhat_classes)\n",
    "\n",
    "# print results\n",
    "print(f\"Test Precision: {pre.result().numpy():.4f}\")\n",
    "print(f\"Test Recall: {re.result().numpy():.4f}\")\n",
    "print(f\"Test Accuracy: {acc.result().numpy():.4f}\")"
   ]
  },
  {
   "cell_type": "code",
   "execution_count": 18,
   "id": "53f5838f",
   "metadata": {},
   "outputs": [
    {
     "name": "stdout",
     "output_type": "stream",
     "text": [
      "Epoch 1/10\n",
      "\u001b[1m16/16\u001b[0m \u001b[32m━━━━━━━━━━━━━━━━━━━━\u001b[0m\u001b[37m\u001b[0m \u001b[1m67s\u001b[0m 3s/step - accuracy: 0.8789 - loss: 0.2748 - val_accuracy: 0.8828 - val_loss: 0.3869 - learning_rate: 2.0000e-05\n",
      "Epoch 2/10\n",
      "\u001b[1m16/16\u001b[0m \u001b[32m━━━━━━━━━━━━━━━━━━━━\u001b[0m\u001b[37m\u001b[0m \u001b[1m46s\u001b[0m 3s/step - accuracy: 0.9023 - loss: 0.2182 - val_accuracy: 0.9141 - val_loss: 0.2413 - learning_rate: 2.0000e-05\n",
      "Epoch 3/10\n",
      "\u001b[1m16/16\u001b[0m \u001b[32m━━━━━━━━━━━━━━━━━━━━\u001b[0m\u001b[37m\u001b[0m \u001b[1m49s\u001b[0m 3s/step - accuracy: 0.9082 - loss: 0.2241 - val_accuracy: 0.9531 - val_loss: 0.1516 - learning_rate: 2.0000e-05\n",
      "Epoch 4/10\n",
      "\u001b[1m16/16\u001b[0m \u001b[32m━━━━━━━━━━━━━━━━━━━━\u001b[0m\u001b[37m\u001b[0m \u001b[1m47s\u001b[0m 3s/step - accuracy: 0.9082 - loss: 0.2103 - val_accuracy: 0.9297 - val_loss: 0.1887 - learning_rate: 1.0000e-05\n",
      "Epoch 5/10\n",
      "\u001b[1m16/16\u001b[0m \u001b[32m━━━━━━━━━━━━━━━━━━━━\u001b[0m\u001b[37m\u001b[0m \u001b[1m46s\u001b[0m 3s/step - accuracy: 0.9121 - loss: 0.2148 - val_accuracy: 0.9297 - val_loss: 0.2252 - learning_rate: 1.0000e-05\n"
     ]
    }
   ],
   "source": [
    "# Stage 2: Unfreeze top ResNet layers (last 90 layers)\n",
    "resnet_layers = [layer for layer in model.layers if layer.name.startswith('conv') or layer.name.startswith('pool')]\n",
    "for layer in resnet_layers[-90:]:\n",
    "    layer.trainable = True\n",
    "\n",
    "model.compile(\n",
    "    optimizer=tf.keras.optimizers.Adam(2e-5),\n",
    "    loss='sparse_categorical_crossentropy',\n",
    "    metrics=['accuracy']\n",
    ")\n",
    "\n",
    "history_stage2 = model.fit(\n",
    "    train,\n",
    "    validation_data=val,\n",
    "    epochs=10,\n",
    "    class_weight=class_weight_dict,\n",
    "    callbacks=[early_stopping, reduce_lr]\n",
    ")"
   ]
  },
  {
   "cell_type": "code",
   "execution_count": 19,
   "id": "d7f0f231",
   "metadata": {},
   "outputs": [
    {
     "name": "stderr",
     "output_type": "stream",
     "text": [
      "WARNING:absl:You are saving your model as an HDF5 file via `model.save()` or `keras.saving.save_model(model)`. This file format is considered legacy. We recommend using instead the native Keras format, e.g. `model.save('my_model.keras')` or `keras.saving.save_model(model, 'my_model.keras')`. \n"
     ]
    }
   ],
   "source": [
    "model.save('checkpoints/PROPESI/hybrid_resnet_transformer_finetuned90layers.h5')"
   ]
  },
  {
   "cell_type": "code",
   "execution_count": 20,
   "id": "340b2d24",
   "metadata": {},
   "outputs": [
    {
     "name": "stdout",
     "output_type": "stream",
     "text": [
      "Epoch 1/20\n",
      "\u001b[1m16/16\u001b[0m \u001b[32m━━━━━━━━━━━━━━━━━━━━\u001b[0m\u001b[37m\u001b[0m \u001b[1m106s\u001b[0m 5s/step - accuracy: 0.8730 - loss: 0.3195 - val_accuracy: 0.8828 - val_loss: 0.3471 - learning_rate: 2.0000e-05\n",
      "Epoch 2/20\n",
      "\u001b[1m16/16\u001b[0m \u001b[32m━━━━━━━━━━━━━━━━━━━━\u001b[0m\u001b[37m\u001b[0m \u001b[1m79s\u001b[0m 5s/step - accuracy: 0.8984 - loss: 0.2410 - val_accuracy: 0.8906 - val_loss: 0.4154 - learning_rate: 2.0000e-05\n",
      "Epoch 3/20\n",
      "\u001b[1m16/16\u001b[0m \u001b[32m━━━━━━━━━━━━━━━━━━━━\u001b[0m\u001b[37m\u001b[0m \u001b[1m78s\u001b[0m 5s/step - accuracy: 0.8984 - loss: 0.2991 - val_accuracy: 0.9062 - val_loss: 0.3387 - learning_rate: 2.0000e-05\n",
      "Epoch 4/20\n",
      "\u001b[1m16/16\u001b[0m \u001b[32m━━━━━━━━━━━━━━━━━━━━\u001b[0m\u001b[37m\u001b[0m \u001b[1m74s\u001b[0m 5s/step - accuracy: 0.9023 - loss: 0.2427 - val_accuracy: 0.9453 - val_loss: 0.1506 - learning_rate: 1.0000e-05\n",
      "Epoch 5/20\n",
      "\u001b[1m16/16\u001b[0m \u001b[32m━━━━━━━━━━━━━━━━━━━━\u001b[0m\u001b[37m\u001b[0m \u001b[1m73s\u001b[0m 5s/step - accuracy: 0.9238 - loss: 0.1977 - val_accuracy: 0.8906 - val_loss: 0.3048 - learning_rate: 1.0000e-05\n"
     ]
    }
   ],
   "source": [
    "resnet_layers = [layer for layer in model.layers if layer.name.startswith('conv') or layer.name.startswith('pool')]\n",
    "for layer in resnet_layers[-150:]:\n",
    "    layer.trainable = True\n",
    "\n",
    "model.compile(\n",
    "    optimizer=tf.keras.optimizers.Adam(2e-5),\n",
    "    loss='sparse_categorical_crossentropy',\n",
    "    metrics=['accuracy']\n",
    ")\n",
    "\n",
    "history_stage2 = model.fit(\n",
    "    train,\n",
    "    validation_data=val,\n",
    "    epochs=20,\n",
    "    class_weight=class_weight_dict,\n",
    "    callbacks=[early_stopping, reduce_lr]\n",
    ")"
   ]
  },
  {
   "cell_type": "code",
   "execution_count": null,
   "id": "3019e528",
   "metadata": {},
   "outputs": [
    {
     "name": "stdout",
     "output_type": "stream",
     "text": [
      "WARNING:tensorflow:5 out of the last 15 calls to <function TensorFlowTrainer.make_predict_function.<locals>.one_step_on_data_distributed at 0x0000025917AE0A60> triggered tf.function retracing. Tracing is expensive and the excessive number of tracings could be due to (1) creating @tf.function repeatedly in a loop, (2) passing tensors with different shapes, (3) passing Python objects instead of tensors. For (1), please define your @tf.function outside of the loop. For (2), @tf.function has reduce_retracing=True option that can avoid unnecessary retracing. For (3), please refer to https://www.tensorflow.org/guide/function#controlling_retracing and https://www.tensorflow.org/api_docs/python/tf/function for  more details.\n"
     ]
    },
    {
     "name": "stderr",
     "output_type": "stream",
     "text": [
      "WARNING:tensorflow:5 out of the last 15 calls to <function TensorFlowTrainer.make_predict_function.<locals>.one_step_on_data_distributed at 0x0000025917AE0A60> triggered tf.function retracing. Tracing is expensive and the excessive number of tracings could be due to (1) creating @tf.function repeatedly in a loop, (2) passing tensors with different shapes, (3) passing Python objects instead of tensors. For (1), please define your @tf.function outside of the loop. For (2), @tf.function has reduce_retracing=True option that can avoid unnecessary retracing. For (3), please refer to https://www.tensorflow.org/guide/function#controlling_retracing and https://www.tensorflow.org/api_docs/python/tf/function for  more details.\n"
     ]
    },
    {
     "name": "stdout",
     "output_type": "stream",
     "text": [
      "\u001b[1m1/1\u001b[0m \u001b[32m━━━━━━━━━━━━━━━━━━━━\u001b[0m\u001b[37m\u001b[0m \u001b[1m3s\u001b[0m 3s/step\n",
      "\u001b[1m1/1\u001b[0m \u001b[32m━━━━━━━━━━━━━━━━━━━━\u001b[0m\u001b[37m\u001b[0m \u001b[1m1s\u001b[0m 1s/step   \n",
      "\u001b[1m1/1\u001b[0m \u001b[32m━━━━━━━━━━━━━━━━━━━━\u001b[0m\u001b[37m\u001b[0m \u001b[1m1s\u001b[0m 1s/step\n",
      "\u001b[1m1/1\u001b[0m \u001b[32m━━━━━━━━━━━━━━━━━━━━\u001b[0m\u001b[37m\u001b[0m \u001b[1m1s\u001b[0m 1s/step\n",
      "\u001b[1m1/1\u001b[0m \u001b[32m━━━━━━━━━━━━━━━━━━━━\u001b[0m\u001b[37m\u001b[0m \u001b[1m1s\u001b[0m 1s/step\n",
      "\u001b[1m1/1\u001b[0m \u001b[32m━━━━━━━━━━━━━━━━━━━━\u001b[0m\u001b[37m\u001b[0m \u001b[1m1s\u001b[0m 1s/step\n",
      "\u001b[1m1/1\u001b[0m \u001b[32m━━━━━━━━━━━━━━━━━━━━\u001b[0m\u001b[37m\u001b[0m \u001b[1m2s\u001b[0m 2s/step\n",
      "Precision: 0.9008\n",
      "Recall: 0.9147\n",
      "Accuracy: 0.8261\n"
     ]
    }
   ],
   "source": [
    "pre = Precision()\n",
    "re = Recall()\n",
    "acc = Accuracy()\n",
    "\n",
    "# evaluate the model on the test set\n",
    "for batch in test.as_numpy_iterator():\n",
    "    X, y = batch  # unpack the batch\n",
    "    yhat = model.predict(X)  # get predictions (probabilities)\n",
    "    yhat_classes = np.argmax(yhat, axis=1)  # convert to class indices\n",
    "\n",
    "    # update metrics\n",
    "    pre.update_state(y, yhat_classes)\n",
    "    re.update_state(y, yhat_classes)\n",
    "    acc.update_state(y, yhat_classes)\n",
    "\n",
    "# print results\n",
    "print(f\"Precision: {pre.result().numpy():.4f}\")\n",
    "print(f\"Recall: {re.result().numpy():.4f}\")\n",
    "print(f\"Accuracy: {acc.result().numpy():.4f}\")"
   ]
  },
  {
   "cell_type": "code",
   "execution_count": 21,
   "id": "107a9104",
   "metadata": {},
   "outputs": [
    {
     "name": "stderr",
     "output_type": "stream",
     "text": [
      "WARNING:absl:You are saving your model as an HDF5 file via `model.save()` or `keras.saving.save_model(model)`. This file format is considered legacy. We recommend using instead the native Keras format, e.g. `model.save('my_model.keras')` or `keras.saving.save_model(model, 'my_model.keras')`. \n"
     ]
    }
   ],
   "source": [
    "model.save('checkpoints/PROPESI/hybrid_resnet_transformer_finetuned150layers.h5')"
   ]
  },
  {
   "cell_type": "code",
   "execution_count": 22,
   "id": "45775c09",
   "metadata": {},
   "outputs": [
    {
     "name": "stdout",
     "output_type": "stream",
     "text": [
      "Epoch 1/20\n",
      "\u001b[1m16/16\u001b[0m \u001b[32m━━━━━━━━━━━━━━━━━━━━\u001b[0m\u001b[37m\u001b[0m \u001b[1m119s\u001b[0m 6s/step - accuracy: 0.8555 - loss: 0.3530 - val_accuracy: 0.9219 - val_loss: 0.3604 - learning_rate: 1.0000e-06\n",
      "Epoch 2/20\n",
      "\u001b[1m16/16\u001b[0m \u001b[32m━━━━━━━━━━━━━━━━━━━━\u001b[0m\u001b[37m\u001b[0m \u001b[1m94s\u001b[0m 6s/step - accuracy: 0.8789 - loss: 0.2574 - val_accuracy: 0.9141 - val_loss: 0.2765 - learning_rate: 1.0000e-06\n",
      "Epoch 3/20\n",
      "\u001b[1m16/16\u001b[0m \u001b[32m━━━━━━━━━━━━━━━━━━━━\u001b[0m\u001b[37m\u001b[0m \u001b[1m90s\u001b[0m 6s/step - accuracy: 0.8535 - loss: 0.3720 - val_accuracy: 0.8984 - val_loss: 0.3961 - learning_rate: 1.0000e-06\n",
      "Epoch 4/20\n",
      "\u001b[1m16/16\u001b[0m \u001b[32m━━━━━━━━━━━━━━━━━━━━\u001b[0m\u001b[37m\u001b[0m \u001b[1m89s\u001b[0m 6s/step - accuracy: 0.8633 - loss: 0.2918 - val_accuracy: 0.9531 - val_loss: 0.1941 - learning_rate: 1.0000e-06\n",
      "Epoch 5/20\n",
      "\u001b[1m16/16\u001b[0m \u001b[32m━━━━━━━━━━━━━━━━━━━━\u001b[0m\u001b[37m\u001b[0m \u001b[1m90s\u001b[0m 6s/step - accuracy: 0.8555 - loss: 0.3318 - val_accuracy: 0.9219 - val_loss: 0.2492 - learning_rate: 1.0000e-06\n"
     ]
    }
   ],
   "source": [
    "resnet_layers = [layer for layer in model.layers if layer.name.startswith('conv') or layer.name.startswith('pool')]\n",
    "for layer in resnet_layers[-200:]:\n",
    "    layer.trainable = True\n",
    "\n",
    "model.compile(\n",
    "    optimizer=tf.keras.optimizers.Adam(1e-6),\n",
    "    loss='sparse_categorical_crossentropy',\n",
    "    metrics=['accuracy']\n",
    ")\n",
    "\n",
    "history_stage2 = model.fit(\n",
    "    train,\n",
    "    validation_data=val,\n",
    "    epochs=20,\n",
    "    class_weight=class_weight_dict,\n",
    "    callbacks=[early_stopping, reduce_lr]\n",
    ")"
   ]
  },
  {
   "cell_type": "code",
   "execution_count": 23,
   "id": "4b78f35b",
   "metadata": {},
   "outputs": [
    {
     "name": "stderr",
     "output_type": "stream",
     "text": [
      "WARNING:absl:You are saving your model as an HDF5 file via `model.save()` or `keras.saving.save_model(model)`. This file format is considered legacy. We recommend using instead the native Keras format, e.g. `model.save('my_model.keras')` or `keras.saving.save_model(model, 'my_model.keras')`. \n"
     ]
    }
   ],
   "source": [
    "model.save('checkpoints/PROPESI/hybrid_resnet_transformer_finetuned200layers.h5')"
   ]
  },
  {
   "cell_type": "code",
   "execution_count": 24,
   "id": "41741589",
   "metadata": {},
   "outputs": [
    {
     "name": "stderr",
     "output_type": "stream",
     "text": [
      "WARNING:absl:Compiled the loaded model, but the compiled metrics have yet to be built. `model.compile_metrics` will be empty until you train or evaluate the model.\n"
     ]
    },
    {
     "name": "stdout",
     "output_type": "stream",
     "text": [
      "\u001b[1m1/1\u001b[0m \u001b[32m━━━━━━━━━━━━━━━━━━━━\u001b[0m\u001b[37m\u001b[0m \u001b[1m3s\u001b[0m 3s/step\n",
      "\u001b[1m1/1\u001b[0m \u001b[32m━━━━━━━━━━━━━━━━━━━━\u001b[0m\u001b[37m\u001b[0m \u001b[1m1s\u001b[0m 1s/step\n",
      "\u001b[1m1/1\u001b[0m \u001b[32m━━━━━━━━━━━━━━━━━━━━\u001b[0m\u001b[37m\u001b[0m \u001b[1m3s\u001b[0m 3s/step\n",
      "Precision: 0.9123\n",
      "Recall: 0.9455\n",
      "Accuracy: 0.8052\n"
     ]
    }
   ],
   "source": [
    "from tensorflow.keras.models import load_model\n",
    "\n",
    "# Load the saved model\n",
    "model = load_model('checkpoints/FINAL-REAL/hybrid_resnet_transformer_finetuned150layers.h5')\n",
    "\n",
    "pre = Precision()\n",
    "re = Recall()\n",
    "acc = Accuracy()\n",
    "\n",
    "# evaluate the model on the test set\n",
    "for batch in test.as_numpy_iterator():\n",
    "    X, y = batch  # unpack the batch\n",
    "    yhat = model.predict(X)  # get predictions (probabilities)\n",
    "    yhat_classes = np.argmax(yhat, axis=1)  # convert to class indices\n",
    "\n",
    "    # update metrics\n",
    "    pre.update_state(y, yhat_classes)\n",
    "    re.update_state(y, yhat_classes)\n",
    "    acc.update_state(y, yhat_classes)\n",
    "\n",
    "# print results\n",
    "print(f\"Precision: {pre.result().numpy():.4f}\")\n",
    "print(f\"Recall: {re.result().numpy():.4f}\")\n",
    "print(f\"Accuracy: {acc.result().numpy():.4f}\")"
   ]
  },
  {
   "cell_type": "code",
   "execution_count": 25,
   "id": "cd6172cf",
   "metadata": {},
   "outputs": [
    {
     "name": "stderr",
     "output_type": "stream",
     "text": [
      "WARNING:absl:Compiled the loaded model, but the compiled metrics have yet to be built. `model.compile_metrics` will be empty until you train or evaluate the model.\n"
     ]
    },
    {
     "name": "stdout",
     "output_type": "stream",
     "text": [
      "Epoch 1/10\n",
      "\u001b[1m16/16\u001b[0m \u001b[32m━━━━━━━━━━━━━━━━━━━━\u001b[0m\u001b[37m\u001b[0m \u001b[1m39s\u001b[0m 2s/step - accuracy: 0.9414 - loss: 0.1842 - val_accuracy: 0.9297 - val_loss: 0.2191 - learning_rate: 1.0000e-05\n",
      "Epoch 2/10\n",
      "\u001b[1m16/16\u001b[0m \u001b[32m━━━━━━━━━━━━━━━━━━━━\u001b[0m\u001b[37m\u001b[0m \u001b[1m40s\u001b[0m 2s/step - accuracy: 0.9453 - loss: 0.1544 - val_accuracy: 0.8984 - val_loss: 0.3153 - learning_rate: 1.0000e-05\n",
      "Epoch 3/10\n",
      "\u001b[1m16/16\u001b[0m \u001b[32m━━━━━━━━━━━━━━━━━━━━\u001b[0m\u001b[37m\u001b[0m \u001b[1m30s\u001b[0m 2s/step - accuracy: 0.9277 - loss: 0.1726 - val_accuracy: 0.9453 - val_loss: 0.1506 - learning_rate: 1.0000e-05\n",
      "Epoch 4/10\n",
      "\u001b[1m16/16\u001b[0m \u001b[32m━━━━━━━━━━━━━━━━━━━━\u001b[0m\u001b[37m\u001b[0m \u001b[1m29s\u001b[0m 2s/step - accuracy: 0.9395 - loss: 0.1702 - val_accuracy: 0.9141 - val_loss: 0.2625 - learning_rate: 5.0000e-06\n",
      "Epoch 5/10\n",
      "\u001b[1m16/16\u001b[0m \u001b[32m━━━━━━━━━━━━━━━━━━━━\u001b[0m\u001b[37m\u001b[0m \u001b[1m30s\u001b[0m 2s/step - accuracy: 0.9512 - loss: 0.1370 - val_accuracy: 0.9297 - val_loss: 0.1634 - learning_rate: 5.0000e-06\n"
     ]
    }
   ],
   "source": [
    "# Load the saved model\n",
    "model = load_model('checkpoints/PROPESI/hybrid_resnet_transformer_finetuned90layers.h5')\n",
    "\n",
    "for layer in model.layers:\n",
    "    if hasattr(layer, 'trainable'):\n",
    "        layer.trainable = False\n",
    "# Unfreeze transformer layers (those after ResNet output)\n",
    "for layer in model.layers:\n",
    "    if 'multi_head_attention' in layer.name or 'dense' in layer.name or 'dropout' in layer.name or 'layer_normalization' in layer.name:\n",
    "        layer.trainable = True\n",
    "\n",
    "# Recompile with a low learning rate\n",
    "model.compile(\n",
    "    optimizer=tf.keras.optimizers.Adam(1e-5),\n",
    "    loss='sparse_categorical_crossentropy',\n",
    "    metrics=['accuracy']\n",
    ")\n",
    "\n",
    "# Fine-tune transformer layers\n",
    "history_transformer = model.fit(\n",
    "    train,\n",
    "    validation_data=val,\n",
    "    epochs=10,\n",
    "    class_weight=class_weight_dict,\n",
    "    callbacks=[early_stopping, reduce_lr]\n",
    ")\n"
   ]
  },
  {
   "cell_type": "code",
   "execution_count": 26,
   "id": "51703da3",
   "metadata": {},
   "outputs": [
    {
     "name": "stdout",
     "output_type": "stream",
     "text": [
      "WARNING:tensorflow:5 out of the last 7 calls to <function TensorFlowTrainer.make_predict_function.<locals>.one_step_on_data_distributed at 0x0000017F35E89B40> triggered tf.function retracing. Tracing is expensive and the excessive number of tracings could be due to (1) creating @tf.function repeatedly in a loop, (2) passing tensors with different shapes, (3) passing Python objects instead of tensors. For (1), please define your @tf.function outside of the loop. For (2), @tf.function has reduce_retracing=True option that can avoid unnecessary retracing. For (3), please refer to https://www.tensorflow.org/guide/function#controlling_retracing and https://www.tensorflow.org/api_docs/python/tf/function for  more details.\n"
     ]
    },
    {
     "name": "stderr",
     "output_type": "stream",
     "text": [
      "WARNING:tensorflow:5 out of the last 7 calls to <function TensorFlowTrainer.make_predict_function.<locals>.one_step_on_data_distributed at 0x0000017F35E89B40> triggered tf.function retracing. Tracing is expensive and the excessive number of tracings could be due to (1) creating @tf.function repeatedly in a loop, (2) passing tensors with different shapes, (3) passing Python objects instead of tensors. For (1), please define your @tf.function outside of the loop. For (2), @tf.function has reduce_retracing=True option that can avoid unnecessary retracing. For (3), please refer to https://www.tensorflow.org/guide/function#controlling_retracing and https://www.tensorflow.org/api_docs/python/tf/function for  more details.\n"
     ]
    },
    {
     "name": "stdout",
     "output_type": "stream",
     "text": [
      "\u001b[1m1/1\u001b[0m \u001b[32m━━━━━━━━━━━━━━━━━━━━\u001b[0m\u001b[37m\u001b[0m \u001b[1m4s\u001b[0m 4s/step\n",
      "\u001b[1m1/1\u001b[0m \u001b[32m━━━━━━━━━━━━━━━━━━━━\u001b[0m\u001b[37m\u001b[0m \u001b[1m1s\u001b[0m 1s/step\n",
      "WARNING:tensorflow:6 out of the last 9 calls to <function TensorFlowTrainer.make_predict_function.<locals>.one_step_on_data_distributed at 0x0000017F35E89B40> triggered tf.function retracing. Tracing is expensive and the excessive number of tracings could be due to (1) creating @tf.function repeatedly in a loop, (2) passing tensors with different shapes, (3) passing Python objects instead of tensors. For (1), please define your @tf.function outside of the loop. For (2), @tf.function has reduce_retracing=True option that can avoid unnecessary retracing. For (3), please refer to https://www.tensorflow.org/guide/function#controlling_retracing and https://www.tensorflow.org/api_docs/python/tf/function for  more details.\n"
     ]
    },
    {
     "name": "stderr",
     "output_type": "stream",
     "text": [
      "WARNING:tensorflow:6 out of the last 9 calls to <function TensorFlowTrainer.make_predict_function.<locals>.one_step_on_data_distributed at 0x0000017F35E89B40> triggered tf.function retracing. Tracing is expensive and the excessive number of tracings could be due to (1) creating @tf.function repeatedly in a loop, (2) passing tensors with different shapes, (3) passing Python objects instead of tensors. For (1), please define your @tf.function outside of the loop. For (2), @tf.function has reduce_retracing=True option that can avoid unnecessary retracing. For (3), please refer to https://www.tensorflow.org/guide/function#controlling_retracing and https://www.tensorflow.org/api_docs/python/tf/function for  more details.\n"
     ]
    },
    {
     "name": "stdout",
     "output_type": "stream",
     "text": [
      "\u001b[1m1/1\u001b[0m \u001b[32m━━━━━━━━━━━━━━━━━━━━\u001b[0m\u001b[37m\u001b[0m \u001b[1m3s\u001b[0m 3s/step\n",
      "Precision: 1.0000\n",
      "Recall: 0.9796\n",
      "Accuracy: 0.9870\n"
     ]
    }
   ],
   "source": [
    "pre = Precision()\n",
    "re = Recall()\n",
    "acc = Accuracy()\n",
    "\n",
    "# evaluate the model on the test set\n",
    "for batch in test.as_numpy_iterator():\n",
    "    X, y = batch  # unpack the batch\n",
    "    yhat = model.predict(X)  # get predictions (probabilities)\n",
    "    yhat_classes = np.argmax(yhat, axis=1)  # convert to class indices\n",
    "\n",
    "    # update metrics\n",
    "    pre.update_state(y, yhat_classes)\n",
    "    re.update_state(y, yhat_classes)\n",
    "    acc.update_state(y, yhat_classes)\n",
    "\n",
    "# print results\n",
    "print(f\"Precision: {pre.result().numpy():.4f}\")\n",
    "print(f\"Recall: {re.result().numpy():.4f}\")\n",
    "print(f\"Accuracy: {acc.result().numpy():.4f}\")"
   ]
  },
  {
   "cell_type": "code",
   "execution_count": 27,
   "id": "02130c29",
   "metadata": {},
   "outputs": [
    {
     "name": "stderr",
     "output_type": "stream",
     "text": [
      "WARNING:absl:You are saving your model as an HDF5 file via `model.save()` or `keras.saving.save_model(model)`. This file format is considered legacy. We recommend using instead the native Keras format, e.g. `model.save('my_model.keras')` or `keras.saving.save_model(model, 'my_model.keras')`. \n"
     ]
    }
   ],
   "source": [
    "model.save('checkpoints/PROPESI/hybrid_resnet_transformer_finetunedtransformerlayers.h5')"
   ]
  },
  {
   "cell_type": "code",
   "execution_count": 1,
   "id": "390b1e0a",
   "metadata": {},
   "outputs": [
    {
     "ename": "NameError",
     "evalue": "name 'load_model' is not defined",
     "output_type": "error",
     "traceback": [
      "\u001b[1;31m---------------------------------------------------------------------------\u001b[0m",
      "\u001b[1;31mNameError\u001b[0m                                 Traceback (most recent call last)",
      "Cell \u001b[1;32mIn[1], line 2\u001b[0m\n\u001b[0;32m      1\u001b[0m \u001b[38;5;66;03m# Load best model weights\u001b[39;00m\n\u001b[1;32m----> 2\u001b[0m model \u001b[38;5;241m=\u001b[39m \u001b[43mload_model\u001b[49m(\u001b[38;5;124m'\u001b[39m\u001b[38;5;124mcheckpoints/PROPESI/hybrid_resnet_transformer_finetunedtransformerlayers.h5\u001b[39m\u001b[38;5;124m'\u001b[39m)\n\u001b[0;32m      4\u001b[0m \u001b[38;5;66;03m# Define simple TTA (horizontal flip, vertical flip, etc.)\u001b[39;00m\n\u001b[0;32m      5\u001b[0m \u001b[38;5;28;01mdef\u001b[39;00m\u001b[38;5;250m \u001b[39m\u001b[38;5;21mtta_predict\u001b[39m(model, image):\n",
      "\u001b[1;31mNameError\u001b[0m: name 'load_model' is not defined"
     ]
    }
   ],
   "source": [
    "# Load best model weights\n",
    "model = load_model('checkpoints/PROPESI/hybrid_resnet_transformer_finetunedtransformerlayers.h5')\n",
    "\n",
    "# Define simple TTA (horizontal flip, vertical flip, etc.)\n",
    "def tta_predict(model, image):\n",
    "    preds = []\n",
    "    preds.append(model.predict(tf.expand_dims(image, 0))[0])\n",
    "    preds.append(model.predict(tf.expand_dims(tf.image.flip_left_right(image), 0))[0])\n",
    "    preds.append(model.predict(tf.expand_dims(tf.image.flip_up_down(image), 0))[0])\n",
    "    # Add more augmentations if desired\n",
    "    return np.mean(preds, axis=0)\n",
    "\n",
    "# Evaluate with TTA\n",
    "tta_preds = []\n",
    "tta_labels = []\n",
    "for batch in test.as_numpy_iterator():\n",
    "    X, y = batch\n",
    "    for img, label in zip(X, y):\n",
    "        pred = tta_predict(model, img)\n",
    "        tta_preds.append(np.argmax(pred))\n",
    "        tta_labels.append(label)\n",
    "\n",
    "# Compute metrics\n",
    "from sklearn.metrics import precision_score, recall_score, accuracy_score\n",
    "print(\"TTA Precision:\", precision_score(tta_labels, tta_preds, average='macro'))\n",
    "print(\"TTA Recall:\", recall_score(tta_labels, tta_preds, average='macro'))\n",
    "print(\"TTA Accuracy:\", accuracy_score(tta_labels, tta_preds))"
   ]
  }
 ],
 "metadata": {
  "kernelspec": {
   "display_name": ".venv-training",
   "language": "python",
   "name": "python3"
  },
  "language_info": {
   "codemirror_mode": {
    "name": "ipython",
    "version": 3
   },
   "file_extension": ".py",
   "mimetype": "text/x-python",
   "name": "python",
   "nbconvert_exporter": "python",
   "pygments_lexer": "ipython3",
   "version": "3.10.11"
  }
 },
 "nbformat": 4,
 "nbformat_minor": 5
}
